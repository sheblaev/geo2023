{
  "nbformat": 4,
  "nbformat_minor": 0,
  "metadata": {
    "colab": {
      "provenance": [],
      "authorship_tag": "ABX9TyPKDhsLm9n7qay6GLbI5jp1",
      "include_colab_link": true
    },
    "kernelspec": {
      "name": "python3",
      "display_name": "Python 3"
    },
    "language_info": {
      "name": "python"
    }
  },
  "cells": [
    {
      "cell_type": "markdown",
      "metadata": {
        "id": "view-in-github",
        "colab_type": "text"
      },
      "source": [
        "<a href=\"https://colab.research.google.com/github/sheblaev/geo2023/blob/main/Untitled1.ipynb\" target=\"_parent\"><img src=\"https://colab.research.google.com/assets/colab-badge.svg\" alt=\"Open In Colab\"/></a>"
      ]
    },
    {
      "cell_type": "code",
      "execution_count": 1,
      "metadata": {
        "id": "3wcqaeRDMwdl"
      },
      "outputs": [],
      "source": []
    },
    {
      "cell_type": "markdown",
      "source": [
        "# Гугл помогает мне создавать курсовик на своих удаленных серверах #"
      ],
      "metadata": {
        "id": "W_BSmP6QNANq"
      }
    },
    {
      "cell_type": "markdown",
      "source": [],
      "metadata": {
        "id": "IZsRyBwnM-z7"
      }
    },
    {
      "cell_type": "code",
      "source": [
        "print(2*2)"
      ],
      "metadata": {
        "colab": {
          "base_uri": "https://localhost:8080/"
        },
        "id": "-7HJ60KUNEO8",
        "outputId": "eeb11fc0-47df-4997-eeab-2362a40c6897"
      },
      "execution_count": 2,
      "outputs": [
        {
          "output_type": "stream",
          "name": "stdout",
          "text": [
            "4\n"
          ]
        }
      ]
    },
    {
      "cell_type": "markdown",
      "source": [
        "**Прорыв в высшей арифметике!**\n",
        "\n",
        "Нет, похоже ошибся, надо пересчитать"
      ],
      "metadata": {
        "id": "1qxC5fzwNIfq"
      }
    },
    {
      "cell_type": "code",
      "source": [],
      "metadata": {
        "id": "KRBKWNftNvLS"
      },
      "execution_count": null,
      "outputs": []
    },
    {
      "cell_type": "code",
      "source": [],
      "metadata": {
        "id": "n5JO9dJeNOYa"
      },
      "execution_count": null,
      "outputs": []
    }
  ]
}